{
 "cells": [
  {
   "cell_type": "markdown",
   "id": "06d5796f",
   "metadata": {},
   "source": [
    "Import modules."
   ]
  },
  {
   "cell_type": "code",
   "execution_count": 12,
   "id": "ba4108c1",
   "metadata": {},
   "outputs": [],
   "source": [
    "import numpy as np\n",
    "from qiskit import ClassicalRegister, QuantumRegister, QuantumCircuit\n",
    "from qiskit_aer import Aer\n"
   ]
  },
  {
   "cell_type": "markdown",
   "id": "ad7507c2-3d22-438d-9f35-9d3a22694d19",
   "metadata": {},
   "source": [
    "Define the number of qubits available."
   ]
  },
  {
   "cell_type": "code",
   "execution_count": 13,
   "id": "03341296-a546-427b-9ca3-db68b8d6f044",
   "metadata": {},
   "outputs": [],
   "source": [
    "n_qubits = 29\n",
    "dim_strings = n_qubits - 1"
   ]
  },
  {
   "cell_type": "code",
   "execution_count": 14,
   "id": "4cc3a746-5134-49a2-8634-57343fbb4a33",
   "metadata": {},
   "outputs": [],
   "source": [
    "# To use local qasm simulator\n",
    "backend = Aer.get_backend(\"aer_simulator\")\n",
    "shots = 1024"
   ]
  },
  {
   "cell_type": "code",
   "execution_count": 15,
   "id": "9cc51977",
   "metadata": {},
   "outputs": [],
   "source": [
    "# Load saved credentials\n",
    "# service = QiskitRuntimeService()\n",
    "# options = Options()\n",
    "# options.execution.shots = 1024\n",
    "\n",
    "# # Set the backend\n",
    "# backend = service.backend(\"ibmq_qasm_simulator\")\n",
    "\n",
    "# # Define the fidelity using Sampler(backend)\n",
    "# fidelity = ComputeUncompute(sampler=Sampler(backend))"
   ]
  },
  {
   "cell_type": "markdown",
   "id": "5db6717c",
   "metadata": {},
   "source": [
    "Define the mapping between letters and angles."
   ]
  },
  {
   "cell_type": "code",
   "execution_count": 16,
   "id": "f0d161af-1a35-4e9b-9b2e-7ec7910204d4",
   "metadata": {},
   "outputs": [],
   "source": [
    "def string_to_angles(file_path):\n",
    "    file = open(file_path, 'r')\n",
    "    header_line = next(file)\n",
    "    angles = []\n",
    "    while 1:\n",
    "        # read by character\n",
    "        char = file.read(1)          \n",
    "        if not char: \n",
    "            break\n",
    "        if char == 'A':\n",
    "            angles.append(np.pi/4)\n",
    "        elif char == 'T':\n",
    "            angles.append(3*np.pi/4)\n",
    "        elif char == 'C':\n",
    "            angles.append(5*np.pi/4)\n",
    "        elif char == 'G':\n",
    "            angles.append(7*np.pi/4)\n",
    "    file.close()\n",
    "\n",
    "    return angles"
   ]
  },
  {
   "cell_type": "markdown",
   "id": "08f13a60-1b99-4df3-8a40-bd05bb33d60d",
   "metadata": {},
   "source": [
    "Create the quantum circuit for measuring the Hamming distance between strings."
   ]
  },
  {
   "cell_type": "code",
   "execution_count": 18,
   "id": "463c200c-1203-424f-b680-8aa0698f4e85",
   "metadata": {},
   "outputs": [],
   "source": [
    "def hamming_distance(theta, phi):\n",
    "    dim_strings = len(theta)\n",
    "    n_qubits = dim_strings + 1\n",
    "    c = ClassicalRegister(1, 'c')\n",
    "    q = QuantumRegister(n_qubits, 'q')\n",
    "    circuit = QuantumCircuit(q, c)\n",
    "    #########################################\n",
    "    circuit.h(q[0])\n",
    "    for i in range(1,n_qubits):\n",
    "        circuit.h(q[i])\n",
    "        if i % 2 == 0:\n",
    "            circuit.rx(phi[i-2],q[i])\n",
    "            circuit.rz(phi[i-1],q[i])\n",
    "            circuit.cswap(q[0], q[i-1], q[i])\n",
    "        elif i % 2 == 1:\n",
    "            circuit.rx(theta[i-1],q[i])\n",
    "            circuit.rz(theta[i],q[i])\n",
    "    circuit.h(q[0])\n",
    "    #########################################\n",
    "    circuit.measure(q[0], c[0])\n",
    "    circuit.reset(q)\n",
    "    #########################################\n",
    "    job = backend.run(circuit, shots=shots)\n",
    "    result = job.result()   \n",
    "    # plot_histogram(result.get_counts())\n",
    "    #########################################\n",
    "    return result"
   ]
  },
  {
   "cell_type": "markdown",
   "id": "597bf4c9-2ba8-4136-8a75-c2db80ba0ea2",
   "metadata": {},
   "source": [
    "Load data and transform strings to lists of angles."
   ]
  },
  {
   "cell_type": "code",
   "execution_count": 23,
   "id": "b34acd6c-b51e-4328-b752-b2d6bbe5de13",
   "metadata": {},
   "outputs": [],
   "source": [
    "gene = string_to_angles('gene.fna')\n",
    "patient_1 = string_to_angles('Patient_1_genome_fragment.fa')\n",
    "patient_2 = string_to_angles('Patient_2_genome_fragment.fa')"
   ]
  },
  {
   "cell_type": "markdown",
   "id": "c5304b04-8bc8-476f-8e09-2532ea44c72c",
   "metadata": {},
   "source": [
    "Take sections of the gene to match the number of available qubits."
   ]
  },
  {
   "cell_type": "code",
   "execution_count": 24,
   "id": "a6f9b54d-2a23-4a18-875c-ce403aa840f5",
   "metadata": {},
   "outputs": [],
   "source": [
    "gene_sections = np.reshape(gene[:len(gene) - len(gene) % dim_strings],(-1, dim_strings))\n",
    "gene_tail = gene[len(gene) - len(gene) % dim_strings:]"
   ]
  },
  {
   "cell_type": "markdown",
   "id": "610bb37b-06fe-4422-a177-25485d632574",
   "metadata": {},
   "source": [
    "Call the function to compute the Hamming distance between the first section of the gene and same lenght sections of the genome."
   ]
  },
  {
   "cell_type": "code",
   "execution_count": null,
   "id": "9e122e43-9664-42a6-8695-10addda1183a",
   "metadata": {},
   "outputs": [],
   "source": [
    "s = 0\n",
    "i = 0\n",
    "while i < len(patient_1)-dim_strings:\n",
    "    result = hamming_distance(gene_sections[s], patient_1[i:i+dim_strings])\n",
    "    probability = result.get_counts()['0']/shots\n",
    "    if probability >= 0.95:\n",
    "        if s < len(gene_sections) - 1:\n",
    "            s += 1\n",
    "            i = i + dim_strings\n",
    "        elif s == len(gene_sections) - 1:\n",
    "            result = hamming_distance(gene_tail, patient_1[i:i+len(gene_tail)])\n",
    "            probability = result.get_counts()['0']/shots\n",
    "            if probability >= 0.95:\n",
    "                print('Gene found in genome of Patient #1')\n",
    "                break\n",
    "    else:\n",
    "        s = 0\n",
    "        i += 1\n",
    "if i >= len(patient_1)-len(gene):\n",
    "    print('Gene not found in genome of Patient #1')"
   ]
  },
  {
   "cell_type": "markdown",
   "id": "bfa272fc-c322-425e-9017-d71a0774ec95",
   "metadata": {},
   "source": [
    "Testing with short artificial strings."
   ]
  },
  {
   "cell_type": "code",
   "execution_count": null,
   "id": "2ba6ecd7-dfa8-4873-b663-292ef5e287a3",
   "metadata": {},
   "outputs": [],
   "source": [
    "# gene = string_to_angles('gene_short.fna')\n",
    "# gene_sections = np.reshape(gene[:len(gene) - len(gene) % dim_strings],(-1, dim_strings))\n",
    "# gene_tail = gene[len(gene) - len(gene) % dim_strings:]\n",
    "# test = string_to_angles('Test_genome_short.fa')\n",
    "\n",
    "# s = 0\n",
    "# i = 0\n",
    "# while i < len(test)-dim_strings:\n",
    "#     result = hamming_distance(gene_sections[s], test[i:i+dim_strings])\n",
    "#     probability = result.get_counts()['0']/shots\n",
    "#     if probability >= 0.95:\n",
    "#         if s < len(gene_sections) - 1:\n",
    "#             s += 1\n",
    "#             i = i + dim_strings\n",
    "#             print(s, '° part matching')\n",
    "#         elif s == len(gene_sections) - 1:\n",
    "#             result = hamming_distance(gene_tail, test[i:i+len(gene_tail)])\n",
    "#             probability = result.get_counts()['0']/shots\n",
    "#             if probability >= 0.95:\n",
    "#                 print('Gene found in genome')\n",
    "#                 break\n",
    "#     else:\n",
    "#         s = 0\n",
    "#         i += 1"
   ]
  },
  {
   "cell_type": "markdown",
   "id": "e4221e52-f005-4c9f-8d38-26174c6ab965",
   "metadata": {},
   "source": [
    "Demonstration circuit with parameters instead of data points."
   ]
  },
  {
   "cell_type": "code",
   "execution_count": null,
   "id": "47d97a1d",
   "metadata": {},
   "outputs": [],
   "source": [
    "# n_qubits = 7\n",
    "# dim_strings = n_qubits - 1\n",
    "\n",
    "# theta = ParameterVector(\"θ\", dim_strings)\n",
    "# phi = ParameterVector(\"φ\", dim_strings)\n",
    "\n",
    "# c = ClassicalRegister(1, 'c')\n",
    "# q = QuantumRegister(n_qubits, 'q')\n",
    "# circuit = QuantumCircuit(q, c)\n",
    "\n",
    "# circuit.h(q[0])\n",
    "# for i in range(1,n_qubits):\n",
    "#     circuit.h(q[i])\n",
    "#     if i % 2 == 0:\n",
    "#         circuit.rx(phi[i-2],q[i])\n",
    "#         circuit.rz(phi[i-1],q[i])\n",
    "#         circuit.cswap(q[0], q[i-1], q[i])\n",
    "#     elif i % 2 == 1:\n",
    "#         circuit.rx(theta[i-1],q[i])\n",
    "#         circuit.rz(theta[i],q[i])\n",
    "# circuit.h(q[0])\n",
    "# circuit.measure(q[0], c[0])\n",
    "\n",
    "# circuit.draw(output='mpl', style=\"iqp\")"
   ]
  },
  {
   "cell_type": "code",
   "execution_count": null,
   "id": "7d2b11b8-a92e-49f7-b1a4-cbb44587f2b9",
   "metadata": {},
   "outputs": [],
   "source": []
  }
 ],
 "metadata": {
  "kernelspec": {
   "display_name": "Python 3 (ipykernel)",
   "language": "python",
   "name": "python3"
  },
  "language_info": {
   "codemirror_mode": {
    "name": "ipython",
    "version": 3
   },
   "file_extension": ".py",
   "mimetype": "text/x-python",
   "name": "python",
   "nbconvert_exporter": "python",
   "pygments_lexer": "ipython3",
   "version": "3.11.4"
  }
 },
 "nbformat": 4,
 "nbformat_minor": 5
}
